{
 "cells": [
  {
   "cell_type": "markdown",
   "metadata": {
    "id": "8eYVC0mCtdXu"
   },
   "source": [
    "<div dir=rtl>\n",
    "آلزایمر یک بیماری پیشرونده نورولوژیکی می باشد که باعث انحطاط بعضی عملکرد های شناختی می شود (mandal and Shukla , 2018).  تاکنون هیچ درمان قطعی برای درمان بیماری آلزایمر کشف نشده است ، لذا تشخیص زودهنگام این بیماری می تواند به جلوگیری از پیشرفت این دمانس کمک کند (zamanzadeh and gharibzadeh ,2021) .\n",
    "مطالعات بسیاری نشان داده اند که می توان با استفاده از داده های تغییرات نقاط مختلف مغزی (Kishore ,kumar and pavani ,2020) و تغییرات نورولوژیکی مغز ، وجود بیماری الزایمر را از طریق یادگیری ماشین تشخیص داد . \n",
    "در اینجا تلاش شده تا با استفاده از داده های موجود در سایت kaggle در آدرس زیر :\n",
    "https://www.kaggle.com/tourist55/alzheimers-dataset-4-class-of-images\n",
    " با به کارگیری یادگیری عمیق ، مدلی طراحی شود تا بتوان آلزایمر را به صورت خودکار و بدون نیاز به متخصصین این حوزه ، تشخیص داد. \n",
    "</div>"
   ]
  },
  {
   "cell_type": "markdown",
   "metadata": {
    "id": "4ve3DFHtvXQy"
   },
   "source": [
    "<div dir=rtl>\n",
    "در صورتی که داده هایتان را در گوگل کولب اجرا می کنید ، می توانید آن را به صورت زیر باز کنید  \n",
    "<div>"
   ]
  },
  {
   "cell_type": "code",
   "execution_count": null,
   "metadata": {
    "id": "Hc4DiPjaX3-J"
   },
   "outputs": [],
   "source": []
  },
  {
   "cell_type": "code",
   "execution_count": 1,
   "metadata": {
    "colab": {
     "base_uri": "https://localhost:8080/"
    },
    "id": "Q-gHCod5VBML",
    "outputId": "5842fdf6-8a04-485a-f73e-c5b7a7468516"
   },
   "outputs": [
    {
     "name": "stdout",
     "output_type": "stream",
     "text": [
      "done\n"
     ]
    }
   ],
   "source": [
    "from zipfile import ZipFile\n",
    "with ZipFile(\"/content/drive/MyDrive/Alzheimer Dataset.zip\" , \"r\") as data : \n",
    "  data.extractall()\n",
    "print(\"done\")"
   ]
  },
  {
   "cell_type": "code",
   "execution_count": 2,
   "metadata": {
    "id": "zasXF3mRu7Az"
   },
   "outputs": [],
   "source": [
    "import keras\n",
    "import itertools\n",
    "import tensorflow\n",
    "import numpy as np\n",
    "from keras import regularizers\n",
    "from keras.models import Model , Sequential\n",
    "from sklearn.metrics import confusion_matrix\n",
    "from keras.applications.resnet import ResNet101 \n",
    "from keras_preprocessing.image import ImageDataGenerator\n",
    "from tensorflow.keras.callbacks import ReduceLROnPlateau\n",
    "from keras.layers import Flatten , Input , Dropout , BatchNormalization , Dense , Activation , MaxPooling2D"
   ]
  },
  {
   "cell_type": "code",
   "execution_count": 3,
   "metadata": {
    "id": "SFWp2eHwW5Ai"
   },
   "outputs": [],
   "source": [
    "import os \n",
    "\n",
    "base_dir = \"/content/Alzheimer_s Dataset\"\n",
    "train_path = os.path.join(base_dir , \"train\")\n",
    "test_path = os.path.join(base_dir , \"test\")\n",
    "\n",
    "train_MildDemented = os.path.join(train_path , \"MildDemented\")\n",
    "train_ModerateDemented = os.path.join(train_path , \"ModerateDemented\")\n",
    "train_NonDemented = os.path.join(train_path , \"NonDemented\")\n",
    "train_VeryMildDemented = os.path.join(train_path , \"VeryMildDemented\")\n",
    "\n",
    "test_MildDemented = os.path.join(test_path , \"MildDemented\")\n",
    "test_ModerateDemented = os.path.join(test_path , \"ModerateDemented\")\n",
    "test_NonDemented = os.path.join(test_path , \"NonDemented\")\n",
    "test_VeryMildDemented = os.path.join(test_path , \"VeryMildDemented\")"
   ]
  },
  {
   "cell_type": "markdown",
   "metadata": {
    "id": "ZWDq5pWt5C_U"
   },
   "source": [
    "<div dir=rtl>\n",
    "در زیر ، تنها یک پیش پردازش rescale بر روی داده ها اعمال می شود  و تمام کانال ها تقسیم بر 255 می شوند تا مقدار هر کانال بین صفر و یک قرار گیرد.\n",
    "سپس با استفاده از data image generator داده ها را به صورت batch آماده ی انتقال به مدل برای پردازش می کنیم.\n",
    "<div>"
   ]
  },
  {
   "cell_type": "code",
   "execution_count": 4,
   "metadata": {
    "colab": {
     "base_uri": "https://localhost:8080/"
    },
    "id": "vCBMVDwBXq21",
    "outputId": "7128cc70-5c97-4cde-82ee-8b7221904555"
   },
   "outputs": [
    {
     "name": "stdout",
     "output_type": "stream",
     "text": [
      "Found 4098 images belonging to 4 classes.\n",
      "Found 1023 images belonging to 4 classes.\n",
      "Found 1279 images belonging to 4 classes.\n"
     ]
    }
   ],
   "source": [
    "train_datagen = ImageDataGenerator(\n",
    "    rescale=1./255,\n",
    "    #width_shift_range  =0.05,\n",
    "    #zoom_range = 0.10,\n",
    "    rotation_range= 5,\n",
    "    validation_split=0.2\n",
    ")\n",
    "\n",
    "val_datagen = ImageDataGenerator(\n",
    "    rescale=1./255,\n",
    "    validation_split=0.2\n",
    ")\n",
    "\n",
    "test_datagen = ImageDataGenerator(\n",
    "    rescale=1./255,\n",
    ")\n",
    "\n",
    "train_generator = train_datagen.flow_from_directory(\n",
    "    train_path,\n",
    "    target_size=(208,176),\n",
    "    color_mode=\"rgb\",\n",
    "    class_mode=\"categorical\",\n",
    "    subset=\"training\",\n",
    "    batch_size=50\n",
    ")\n",
    "\n",
    "validation_generator = val_datagen.flow_from_directory(\n",
    "    train_path,\n",
    "    target_size=(208,176),\n",
    "    color_mode=\"rgb\",\n",
    "    class_mode=\"categorical\",\n",
    "    subset=\"validation\",\n",
    "    batch_size=32\n",
    ")\n",
    "\n",
    "test_generator = test_datagen.flow_from_directory(\n",
    "    test_path,\n",
    "    target_size=(208,176),\n",
    "    color_mode=\"rgb\",\n",
    "    class_mode=\"categorical\",\n",
    "    batch_size=128\n",
    "\n",
    ")"
   ]
  },
  {
   "cell_type": "markdown",
   "metadata": {
    "id": "kMVtbNVJQQ4O"
   },
   "source": [
    "<div dir=rtl>\n",
    "با توجه به این که یکی از کلاس های موجود در دیتاست moderate demented  به نسبت مابقی کلاس ها ، تعداد بسیار کم تری نمونه دارد ، از روش class weight برای برطرف کردن این عدم توازن در داده ها استفاده می توان استفاده کرد.\n",
    "در زیر فراوانی کلاسی که بیشترین تعداد نمونه داشته است بر فراوانی هر کلاس تقسیم و مقدار حاصل شده را به عنوان وزن آن کلاس به مدل پاس می دهیم.\n",
    "<div>"
   ]
  },
  {
   "cell_type": "code",
   "execution_count": 5,
   "metadata": {
    "id": "8Ej4OZ2JpMX3"
   },
   "outputs": [],
   "source": [
    "mildDemented_NUM = 717\n",
    "moderateDemented_NUM = 52\n",
    "nonDemented_NUM = 2560\n",
    "verymilddemented_NUM = 1792\n",
    "\n",
    "mildDemented_weight = 2560.0/mildDemented_NUM\n",
    "moderateDemented_weight = 2560.0/moderateDemented_NUM\n",
    "nonDemented_weight = 2560.0/nonDemented_NUM\n",
    "verymilddemented_weight = 2560.0/verymilddemented_NUM"
   ]
  },
  {
   "cell_type": "markdown",
   "metadata": {
    "id": "_g9yG9YCZCrO"
   },
   "source": [
    "<div dir=rtl>\n",
    "در این قسمت ، دو شبکه کانولوشنی از قبل آموزش دیده برای مقایسه بین آن دو تعریف می شوند ؛ resnet101 vs inception_v3 . به دلیل آن که classifier مورد نیاز برای تشخیص آلزایمر با classifier داده های imagenet متفاوت هست ، از لایه های FC این دو مدل از قبل آموزش داده  استفاده نمیکنیم . سایز ورودی داده ها را همان سایز عکس های mri مغزی موجود در داده ها قرار می دهیم . آزمایش خطا نشان داد که سایز اصلی عکس های mri از سایز داده های  image net دقت بیشتری را به همراه دارد.\n",
    "<div>"
   ]
  },
  {
   "cell_type": "code",
   "execution_count": 6,
   "metadata": {
    "id": "cWmjFRklrvAt"
   },
   "outputs": [],
   "source": [
    "conve_base = ResNet101(\n",
    "    include_top = False,\n",
    "    input_shape=(208,176,3),\n",
    "    weights=\"imagenet\"    \n",
    ")\n"
   ]
  },
  {
   "cell_type": "markdown",
   "metadata": {
    "id": "uOSKMfcujHu0"
   },
   "source": [
    "<div dir=rtl>\n",
    "همانطور که مشاهده می کنید ، قابلیت آموزش تمام لایه های موجود در \"مدل از قبل آموزش دیده\" را False قرار می دهیم.\n",
    "<div>"
   ]
  },
  {
   "cell_type": "code",
   "execution_count": 7,
   "metadata": {
    "id": "Cer8RoZQx8fy"
   },
   "outputs": [],
   "source": [
    "for layer in conve_base.layers : \n",
    "  layer.trainable = False\n",
    "#conve_base.summary()\n",
    "\n",
    "\n"
   ]
  },
  {
   "cell_type": "markdown",
   "metadata": {
    "id": "6w5d3SjfXBZJ"
   },
   "source": [
    "<div dir=rtl>\n",
    "در زیر از روش functional api برای ساخت مدل استفاده می شود. این مدل دو شاخه دارد که در انتها با یکدیگر ادغام می شوند. در یکی از شاخه با استفاده از شبکه های کانولوشنی و kernel 3*3 و در شاخه ی دوم مدل قبلا آموزش دیده conve_base و conve_base_2 ورودی را گرفته و با استفاده از چند لایه fc پردازش می شود.\n",
    "<div>"
   ]
  },
  {
   "cell_type": "code",
   "execution_count": 8,
   "metadata": {
    "id": "g6JhU_z6yPSq"
   },
   "outputs": [],
   "source": [
    "inp1 = Input(shape=(208 , 176 , 3))\n",
    "\n",
    "cnn = keras.layers.SeparableConv2D(264 , 3 , kernel_regularizer=regularizers.l2(0.001) , activation=\"relu\" )(inp1)\n",
    "cnn = MaxPooling2D()(cnn)\n",
    "cnn = keras.layers.SeparableConv2D(128 , 3 , kernel_regularizer=regularizers.l2(0.001) ,  activation=\"relu\")(cnn)\n",
    "cnn = MaxPooling2D()(cnn)\n",
    "cnn = keras.layers.SeparableConv2D(64 , 3 , kernel_regularizer=regularizers.l2(0.001) ,  activation=\"relu\")(cnn)\n",
    "cnn = Dropout(0.5)(cnn)\n",
    "#cnn = BatchNormalization()(cnn)\n",
    "cnn = Flatten()(cnn)\n",
    "#cnn = BatchNormalization()(cnn)\n",
    "\n",
    "X = conve_base(inp1)\n",
    "X = Dropout(0.5)(X)\n",
    "X = Flatten()(X)\n",
    "X = BatchNormalization()(X)\n",
    "X = Dense(320,kernel_initializer='RandomNormal')(X)\n",
    "X = BatchNormalization()(X)\n",
    "X = Activation('relu')(X)\n",
    "X = Dropout(0.5)(X)\n",
    "X = Dense(264,kernel_initializer='RandomNormal')(X)\n",
    "X = BatchNormalization()(X)\n",
    "X = Activation('relu')(X)\n",
    "X = Dropout(0.5)(X)\n",
    "X = Dense(128,kernel_initializer='RandomNormal')(X)\n",
    "X = (BatchNormalization())(X)\n",
    "X = (Activation('relu'))(X)\n",
    "\n",
    "merged = keras.layers.concatenate([cnn , X])\n",
    "predictor = Dense(4 , activation=\"softmax\")(merged)\n",
    "\n",
    "model = Model(inputs=[inp1] , outputs=predictor)\n",
    "\n",
    "\n"
   ]
  },
  {
   "cell_type": "markdown",
   "metadata": {
    "id": "erNMPzmtYvKQ"
   },
   "source": [
    "<div dir=rtl>\n",
    "در قسمت زیر با توجه به این که چهار کلاس متفاوت داریم ، از categorical crossentropy  به عنوان loss function استفاده می کنیم. Metric انتخاب شده ، AUC می باشد که به معنای ناحیه زیر منحنی ROC می باشد. زمانی که true positive rate در مقابل False positive rate روی نمودار رسم شود ، خط رسم شده را ROC و ناحیه پایینی این خط را AUC گویند . \n",
    "<div>"
   ]
  },
  {
   "cell_type": "code",
   "execution_count": 9,
   "metadata": {
    "colab": {
     "base_uri": "https://localhost:8080/"
    },
    "id": "l3BiXJhZGL1D",
    "outputId": "fb8d18f3-abff-4d23-cb78-2136fa5c7330"
   },
   "outputs": [
    {
     "name": "stderr",
     "output_type": "stream",
     "text": [
      "/usr/local/lib/python3.7/dist-packages/tensorflow/python/keras/optimizer_v2/optimizer_v2.py:375: UserWarning: The `lr` argument is deprecated, use `learning_rate` instead.\n",
      "  \"The `lr` argument is deprecated, use `learning_rate` instead.\")\n"
     ]
    }
   ],
   "source": [
    "model.compile(loss=\"categorical_crossentropy\",\n",
    "              optimizer=tensorflow.keras.optimizers.Adam(lr=0.01),\n",
    "              metrics=tensorflow.keras.metrics.AUC(name = 'auc'))"
   ]
  },
  {
   "cell_type": "markdown",
   "metadata": {
    "id": "svUmu1GkBCmY"
   },
   "source": [
    "<div dir=rtl>\n",
    "در زیر چهار نوع callback تعریف شده است. مورد اول tensorboard می باشد که می توان از آن برای مشاهده نتایج و یا مقایسه نتایج هایپر پارامتر های مختلف از آن بهره برد.\n",
    "مورد دوم early stoping ، زمانی کاربرد دارد که مدل ما بعد از یک تعداد patience خاص ، دیگر عملکرد بهتری در دیتای validation نداشته باشد و ما بخواهیم در کناار ذخیره کردن بهترین مدل ، جلوی train را بگیرد.\n",
    "کالبک سوم learning rate scheduler نام دارد که وظیفه آن ، تغییر دادن مقدار پارامتر \"نرخ یادگیری\" در epoch های متفاوت می باشد. در زیر می توانید آرایش نرخ یادگیری را در epoch های متفاوت مشاهده کنید.\n",
    "به جای دو مورد قبلی می توان از یک کالبک سومی استفاده کرد که بعد از یک تعداد خاص patience اگر عملکرد شبکه بهتر نشد ، ضریب نرخ یادگیری شبکه را در یک عدد کوچکتر از یک ضرب کند تا تا نرخ یادگیری کوچکتر شود (شبکه در حال رسیدن به global minimum می باشد ، پس بهتر است نرخ یادگیری کوچکتر باشد). در صورتی که نرخ یادگیری از یک میزان از قبل تعیین شده توسط min_lr کوکتر شود ، شبکه متوقف می شود.\n",
    "<div>"
   ]
  },
  {
   "cell_type": "code",
   "execution_count": 10,
   "metadata": {
    "id": "chTVdsvXbjYp"
   },
   "outputs": [],
   "source": [
    "#mkdir my_log_dir\n",
    "\n",
    "logDir = \"my_log_dir/resnet/\"\n",
    "tensor_board = [\n",
    "                keras.callbacks.TensorBoard(\n",
    "                  log_dir=logDir,\n",
    "                  histogram_freq=1,\n",
    "                  update_freq=\"epoch\"\n",
    "             )\n",
    "]\n",
    "\n",
    "early_stoping = [\n",
    "                 keras.callbacks.EarlyStopping(\n",
    "                     monitor=\"val_auc\",\n",
    "                     patience=10,\n",
    "                     verbose=1,\n",
    "                     mode=\"auto\",\n",
    "                     restore_best_weights=True\n",
    "                 )\n",
    "]\n",
    "\n",
    "def scheduler (epoch):\n",
    "  if epoch < 9:\n",
    "    return 0.01\n",
    "  elif epoch < 30:\n",
    "    return 0.001\n",
    "  else:\n",
    "    return 0.0001\n",
    "\n",
    "learning_rate_scheduler = keras.callbacks.LearningRateScheduler(scheduler , verbose=1 , )\n",
    "\n",
    "reduce_lr = tensorflow.keras.callbacks.ReduceLROnPlateau(\n",
    "    monitor=\"val_loss\",\n",
    "    factor=0.2,\n",
    "    patience=10,\n",
    "    min_lr=0.00001,\n",
    "    mode=\"auto\" )"
   ]
  },
  {
   "cell_type": "markdown",
   "metadata": {
    "id": "S2ys0xN_TXy0"
   },
   "source": [
    "<div dir=rtl>\n",
    "در بالا ، وزن مناسب هر کلاس تعریف شده است ، حال به صورت یک دیکشنری ، وزن هر کلاس تعریف می شود تا به مدل پاس داده شود.\n",
    "بعد از آن با استفاده از train_generator  که توسط ImageDataGenerator تعریف شده ، داده ها را به model.fit پاس می دهیم تا مدل ساخته شود. همچنین انواع کالبک هایی که تعریف کرده ایم نیز ، به صورت لیست ، به عنوان کالبک به مدل اضافه می کنیم.\n",
    "<di>"
   ]
  },
  {
   "cell_type": "code",
   "execution_count": 11,
   "metadata": {
    "colab": {
     "base_uri": "https://localhost:8080/"
    },
    "id": "x8zxPhC6Gmxr",
    "outputId": "c702df0a-459d-43ec-fcde-e8a16c11fb11"
   },
   "outputs": [
    {
     "name": "stderr",
     "output_type": "stream",
     "text": [
      "/usr/local/lib/python3.7/dist-packages/keras/utils/generic_utils.py:497: CustomMaskWarning: Custom mask layers require a config and must override get_config. When loading, the custom mask layer must be passed to the custom_objects argument.\n",
      "  category=CustomMaskWarning)\n"
     ]
    },
    {
     "name": "stdout",
     "output_type": "stream",
     "text": [
      "Epoch 1/40\n",
      "\n",
      "Epoch 00001: LearningRateScheduler reducing learning rate to 0.01.\n",
      "80/80 [==============================] - 188s 2s/step - loss: 1.0137 - auc: 0.7624 - val_loss: 2.0304 - val_auc: 0.8230\n",
      "Epoch 2/40\n",
      "\n",
      "Epoch 00002: LearningRateScheduler reducing learning rate to 0.01.\n",
      "80/80 [==============================] - 137s 2s/step - loss: 0.7994 - auc: 0.8222 - val_loss: 1.2463 - val_auc: 0.8428\n",
      "Epoch 3/40\n",
      "\n",
      "Epoch 00003: LearningRateScheduler reducing learning rate to 0.01.\n",
      "80/80 [==============================] - 134s 2s/step - loss: 0.7211 - auc: 0.8461 - val_loss: 1.2416 - val_auc: 0.8582\n",
      "Epoch 4/40\n",
      "\n",
      "Epoch 00004: LearningRateScheduler reducing learning rate to 0.01.\n",
      "80/80 [==============================] - 134s 2s/step - loss: 0.6824 - auc: 0.8598 - val_loss: 1.1618 - val_auc: 0.8698\n",
      "Epoch 5/40\n",
      "\n",
      "Epoch 00005: LearningRateScheduler reducing learning rate to 0.01.\n",
      "80/80 [==============================] - 134s 2s/step - loss: 0.5940 - auc: 0.8720 - val_loss: 0.9868 - val_auc: 0.8814\n",
      "Epoch 6/40\n",
      "\n",
      "Epoch 00006: LearningRateScheduler reducing learning rate to 0.01.\n",
      "80/80 [==============================] - 129s 2s/step - loss: 0.5555 - auc: 0.8834 - val_loss: 1.0284 - val_auc: 0.8910\n",
      "Epoch 7/40\n",
      "\n",
      "Epoch 00007: LearningRateScheduler reducing learning rate to 0.01.\n",
      "80/80 [==============================] - 129s 2s/step - loss: 0.5225 - auc: 0.8925 - val_loss: 0.8480 - val_auc: 0.8991\n",
      "Epoch 8/40\n",
      "\n",
      "Epoch 00008: LearningRateScheduler reducing learning rate to 0.01.\n",
      "80/80 [==============================] - 130s 2s/step - loss: 0.4632 - auc: 0.9011 - val_loss: 0.8777 - val_auc: 0.9067\n",
      "Epoch 9/40\n",
      "\n",
      "Epoch 00009: LearningRateScheduler reducing learning rate to 0.01.\n",
      "80/80 [==============================] - 129s 2s/step - loss: 0.4270 - auc: 0.9083 - val_loss: 0.9458 - val_auc: 0.9130\n",
      "Epoch 10/40\n",
      "\n",
      "Epoch 00010: LearningRateScheduler reducing learning rate to 0.001.\n",
      "80/80 [==============================] - 133s 2s/step - loss: 0.3767 - auc: 0.9144 - val_loss: 0.8510 - val_auc: 0.9191\n",
      "Epoch 11/40\n",
      "\n",
      "Epoch 00011: LearningRateScheduler reducing learning rate to 0.001.\n",
      "80/80 [==============================] - 134s 2s/step - loss: 0.3311 - auc: 0.9205 - val_loss: 0.8441 - val_auc: 0.9245\n",
      "Restoring model weights from the end of the best epoch.\n",
      "Epoch 00011: early stopping\n"
     ]
    }
   ],
   "source": [
    "class_weight = {0:mildDemented_weight , 1:moderateDemented_weight , 2:nonDemented_weight , 3:verymilddemented_weight}\n",
    "\n",
    "history=model.fit(\n",
    "      train_generator,\n",
    "      steps_per_epoch=80,\n",
    "      epochs=40, \n",
    "      validation_data = validation_generator,\n",
    "      validation_steps=31,\n",
    "      callbacks=[learning_rate_scheduler, early_stoping ,tensor_board ],\n",
    "      verbose=1,\n",
    "      #class_weight=class_weight\n",
    "  )"
   ]
  },
  {
   "cell_type": "markdown",
   "metadata": {
    "id": "ydBGEXcTTfPJ"
   },
   "source": [
    "<div dir=rtl>\n",
    "برای نمایش نتایج validation و train ، از کتابخانه matplotlib استفاده میکنیم.\n",
    "<div>"
   ]
  },
  {
   "cell_type": "code",
   "execution_count": 12,
   "metadata": {
    "colab": {
     "base_uri": "https://localhost:8080/",
     "height": 545
    },
    "id": "fjAFPUepbO0L",
    "outputId": "453d886b-b6e2-435c-a944-1ac377856c52"
   },
   "outputs": [
    {
     "data": {
      "image/png": "[encoded data removed]",
      "text/plain": [
       "<Figure size 432x288 with 1 Axes>"
      ]
     },
     "metadata": {
      "needs_background": "light",
      "tags": []
     },
     "output_type": "display_data"
    },
    {
     "data": {
      "image/png": "[encoded data removed]",
      "text/plain": [
       "<Figure size 432x288 with 1 Axes>"
      ]
     },
     "metadata": {
      "needs_background": "light",
      "tags": []
     },
     "output_type": "display_data"
    }
   ],
   "source": [
    "import matplotlib.pyplot as plt\n",
    "\n",
    "accuracy = history.history[\"auc\"]\n",
    "val_accuracy = history.history[\"val_auc\"]\n",
    "loss = history.history[\"loss\"]\n",
    "val_loss = history.history[\"val_loss\"]\n",
    "\n",
    "epochs_num = range(len(accuracy))\n",
    "\n",
    "plt.plot(epochs_num , accuracy , \"bo\" , label=\"training acuuracy\")\n",
    "plt.plot(epochs_num , val_accuracy , \"b\"  , label=\"validation accuracy\")\n",
    "plt.title(\"training & validation accuracy of alzheimer's disease detection\")\n",
    "plt.legend()\n",
    "plt.figure()\n",
    "\n",
    "plt.plot(epochs_num , loss , \"bo\" , label=\"training loss\")\n",
    "plt.plot(epochs_num , val_loss , \"b\"  , label=\"validation loss\")\n",
    "plt.title(\"training & validation loss of alzheimer's disease detection\")\n",
    "plt.legend()\n",
    "plt.show()"
   ]
  }
 ],
 "metadata": {
  "accelerator": "GPU",
  "colab": {
   "collapsed_sections": [],
   "name": "Copy of Untitled24.ipynb",
   "provenance": []
  },
  "kernelspec": {
   "display_name": "Python 3",
   "language": "python",
   "name": "python3"
  },
  "language_info": {
   "codemirror_mode": {
    "name": "ipython",
    "version": 3
   },
   "file_extension": ".py",
   "mimetype": "text/x-python",
   "name": "python",
   "nbconvert_exporter": "python",
   "pygments_lexer": "ipython3",
   "version": "3.9.5"
  }
 },
 "nbformat": 4,
 "nbformat_minor": 1
}
